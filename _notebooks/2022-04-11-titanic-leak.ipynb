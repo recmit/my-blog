{
 "cells": [
  {
   "cell_type": "markdown",
   "id": "28741e4a-d33b-40b3-82e9-67d5c89672bc",
   "metadata": {},
   "source": [
    "# \"The Titanic has a Leak\"\n",
    "\n",
    "> \"We will explore a source of data leakage in the popular Titanic competition on Kaggle: Passengers traveling together have similar survival outcomes and this correlation can be used to make predictions for the test set in a way that wouldn't be possible in reality. To prevent the leakage we implement a leak-proof cross-validation. We compare the accuracy of an XGBoost classifier to various baselines to investigate which role, if any, the leakage is playing in the predictions of our classifier.\"\n",
    "- toc: True"
   ]
  },
  {
   "cell_type": "code",
   "execution_count": 1,
   "id": "ad01a095-d80a-4284-b08e-8b40490418b2",
   "metadata": {},
   "outputs": [],
   "source": [
    "#collapse-hide\n",
    "from collections import defaultdict\n",
    "import pandas as pd\n",
    "import numpy as np\n",
    "from sklearn.model_selection import cross_validate, GridSearchCV, StratifiedKFold, StratifiedGroupKFold\n",
    "from sklearn.base import BaseEstimator, ClassifierMixin\n",
    "from sklearn.pipeline import Pipeline\n",
    "from sklearn.experimental import enable_iterative_imputer  # noqa\n",
    "from sklearn.impute import IterativeImputer\n",
    "from sklearn.preprocessing import OrdinalEncoder\n",
    "import xgboost as xgb\n",
    "import networkx as nx\n",
    "import matplotlib.pyplot as plt"
   ]
  },
  {
   "cell_type": "markdown",
   "id": "05e600ce-770a-4d87-9f75-e4bb4e2cc9a2",
   "metadata": {
    "tags": []
   },
   "source": [
    "## What is leakage?\n",
    "\n",
    "Training a machine learning model to make predictions is tricky (especially about the future!). One of the main issues is [overfitting](https://en.wikipedia.org/wiki/Overfitting): If left unchecked, models will tend to fit the training data too specifically in a way that doesn't actually generalize to \"future data\".\n",
    "\n",
    "This is why we always set aside a subset of the data (the **test set**) to evaluate the model predictions. The model never gets to see the test data during training, to simulate new data like the data the model will have to deal with when in real deployment. At first this seems like a foolproof method to gauge how well the model will do in practice, assuming that the \"future data\" in the context the model needs to operate arises from the same probability distribution as our current data (that is a whole other issue, see [data drift](https://docs.microsoft.com/en-us/azure/machine-learning/how-to-monitor-datasets?tabs=python)).\n",
    "\n",
    "However, in practice there might be **unintended correlations** between the test set and the data we used to train the model (the **training set**). Those correlations might allow us to make predictions based on information which we wouldn't actually have access to at prediction time in reality. We call this phenomenon **data leakage**, because \"future\" information is accidentally leaking from the test set to the training set. This can lead to dramatically overestimating the true model performance. Even worse, the model could end up mostly relying on the leakage for predictions, to the detriment of legitimate signals. This would make it essentially useless in a real deployment.\n",
    "\n",
    "This somewhat abstract description will become clearer once we look at a specific instance of leakage."
   ]
  },
  {
   "cell_type": "markdown",
   "id": "00f34d00-3ce7-4ca2-a9a8-0bb2fa2060e7",
   "metadata": {
    "tags": []
   },
   "source": [
    "## Where is the leakage?\n",
    "In the case of the famous **Titanic** [competition](https://www.kaggle.com/c/titanic) there is a major source of information leakage. **Groups of women and children** traveling together tend to either all live or all die, simply because they tended to stay together. Women and children were famously prioritized on the lifeboats, while adult men were separated from their families.\n",
    "\n",
    "This is an instance of data leakage because we wouldn't have known which families were going to survive before the Titanic sank, yet it provides us with a lot of information on passenger survival in our data. Strictly speaking, it is open to debate what exactly constitutes leakage in a one-time event such as in the Titanic disaster. However, if we imagine having to make a prediction about another ship sinking in similar circumstances, it seems unreasonable to assume that we would have information on which families would survive *beyond the information on which passengers would survive*. In contrast to survival per passenger class, for instance, family survival is seems to be subject to random events in a way that is not generalizable (what could be called random noise)."
   ]
  },
  {
   "cell_type": "markdown",
   "id": "36052bcc-ec12-432c-bb5a-14dc4d210adb",
   "metadata": {
    "tags": []
   },
   "source": [
    "## Why does the leakage matter?\n",
    "\n",
    "I am not the first one to point out that family survival is a major predictor of individual passenger survival. As far as I know, however, the extent and importance of the leakage has not been thoroughly investigated yet.\n",
    "\n",
    "There is no doubt that using the leakage gives an important advantage in the Kaggle Titanic competition. Most passenger groups (which we will specify below) have in fact been separated in the train-test split. This is not a particular characteristic of the Kaggle test set. Instead, it is statistically a near-certainty given the number of groups and the group sizes, as long as the test set makes up a third of the data.\n",
    "\n",
    "We can distinguish three ways in which the leakage has been used on the Kaggle competition over the years:\n",
    "- [Chris Deotte](https://www.kaggle.com/code/cdeotte/titanic-using-name-only-0-81818/notebook) and others have already observed that one can get very good results (better than many sophisticated approaches) just by making predictions with a very simple rule **using family survival directly** (but not explicitly identifying it as an example of data leakage, to the best of my knowledge). The rule is the following: Just predict that all males die and all females live, except for boys whose family survived (who are predicted to live instead) and females whose family died (who are predicted to die instead). We will implement this model bellow and compare its accuracy with other approaches.\n",
    "- People like [Erik Bruin](https://www.kaggle.com/code/erikbruin/titanic-2nd-degree-families-and-majority-voting/report) have also noticed that adding \"family survival\" as an **engineered feature** helps train models. This basically amounts to [target encoding](https://maxhalford.github.io/blog/target-encoding/) of an engineered \"family group feature\", where the groups are replaced by the mean survival of the group within the training set (or NA if the group is not represented in the training set).\n",
    "- Finally, beyond the explicit uses of the data leakage listed above, it is conceivable that many classifiers **use it implicitly and inadvertently**. Groups traveling together can be identified from features such as passenger class, port of embarkation, ticket number, cabin number, number of family members on board (children, parents, siblings, spouses). The 'Age' feature as well as the engineered \"title feature\" can be used to identify children.\n",
    "\n",
    "I want to make clear that I am not suggesting any of the above constitutes cheating. It doesn't go against the rules of the competition (I believe) and, in any case, the Titanic competition is intended for people who are relatively new to machine learning (such as myself) to practice with an interesting problem and a manageable data set.\n",
    "\n",
    "That said, I think it is interesting to investigate how pervasive this leakage is. That is to say, how much do classifiers rely on this data leakage, whether explicitly or implicitly? And how well can we do without it?"
   ]
  },
  {
   "cell_type": "markdown",
   "id": "708c815e-40a8-4fc8-b4e7-cb223e2ff71e",
   "metadata": {
    "tags": []
   },
   "source": [
    "## How do we plug the leak?\n",
    "\n",
    "There is a simple solution. We just need to create an alternative test set which, unlike the Kaggle test set, doesn't contain any *partial* passenger groups. In other words, groups are either fully in the test set or fully in the training set. We will call such a train-test split **leak-proof**.\n",
    "\n",
    "Getting slightly more sophisticated, we want to perform multiple train-test leak-proof splits. Taking the mean accuracy over multiple splits allows us to reduce the error in estimating the model performance. This process is called **cross-validation** (often abbreviated \"CV\").\n",
    "\n",
    "We will go into more detail bellow.\n",
    "\n",
    "**Warning**: To do our custom train-test splits we need the full survival outcomes for *all* passengers. While this is publicly available data, I was reluctant to make it even easier to find it for people competing in the Kaggle competition. However, I think that on balance it is worth exploring the questions considered here, at the risk of potentially making the full data easier to access. Frankly, it seems that the cat is out of the bag, considering the large number of perfect scores on the leaderboard. In fact, the place where I found the full data is actually on Kaggle! There was an external link to the data surreptitiously hidden at the end of a long notebook, where it was quietly used to make a submission (with a perfect score, needless to say).\n",
    "\n",
    "To avoid \"spoilers\" about the Kaggle test set, I will try to reveal as little specifics on the test set as possible. The overall survival rate does appear later on, but that can be figured out easily by submitting an \"everyone dies\" prediction."
   ]
  },
  {
   "cell_type": "code",
   "execution_count": 4,
   "id": "704a3f49-0858-4e75-b7e6-82177ffbf3e5",
   "metadata": {},
   "outputs": [],
   "source": [
    "#collapse-hide\n",
    "# This is the full data with the survival outcomes of all passengers\n",
    "full_data = pd.read_csv('full.csv')\n",
    "X = full_data.drop(columns='Survived')\n",
    "y = full_data['Survived'].copy()\n",
    "kaggle_train_idx = pd.RangeIndex(891)\n",
    "kaggle_test_idx = pd.RangeIndex(891, 1309)"
   ]
  },
  {
   "cell_type": "markdown",
   "id": "2fde1506-d653-4466-85d3-ad664ac1797c",
   "metadata": {
    "tags": []
   },
   "source": [
    "## Here is what we will do\n",
    "\n",
    "We will address two questions:\n",
    "- If we prevent leakage using leak-proof train-test splits as mentioned above, how well can we predict passenger survival? More concretely, could we do better than a simple baseline if we can't use the leakage?\n",
    "- How do we estimate to which extent a specific classifier is \"secretly\" using the leakage?\n",
    "\n",
    "For the **first point**, we will create an \"exemplary\" classifier and evaluate it using a leak-proof cross-validation. We will compare its accuracy to that of some **simple baselines**, to see how well it does once the leakage has been prevented. For the classifier we will use the popular **XGBoost** classifier. To get the most out of the classifier, we will also perform **feature engineering** and **hyperparameter tuning**.\n",
    "\n",
    "The **second point** is actually hard to answer definitively. We will **compare the accuracy** of a classifier under a **leak-proof cross-validation** and a **\"leaky\" cross-validation** (i.e. a regular cross-validation in which the groups can be divided in the train-test split). If a classifier does worse under the former than under the latter, this suggests that the classifier was using the leakage. However, we need to be cautious about drawing conclusions just from that, because the leak-proof train-test splits might make it \"harder\" to generalize from the training set to the test set in more subtle ways. To dig a little deeper, we will compare the prediction accuracy on the **solo travelers**, i.e. passengers who are traveling alone (to the best of our knowledge).\n",
    "\n",
    "**Outline:**\n",
    "- We will start by implementing the baseline classifiers and the XGBoost classifier.\n",
    "- Then, we will implement the cross-validation function, which will involve a nested cross-validation because of the hyperparameter search.\n",
    "- Finally, we will compute the accuracy of our classifier and of the baselines under various cross-validation schemes and discuss the results."
   ]
  },
  {
   "cell_type": "markdown",
   "id": "0458b9f9-d036-4d2f-8d5c-703307f80b7b",
   "metadata": {
    "tags": []
   },
   "source": [
    "## Baselines"
   ]
  },
  {
   "cell_type": "markdown",
   "id": "764d4650-0896-4d88-bdaf-e034f99be815",
   "metadata": {
    "tags": []
   },
   "source": [
    "### Enhanced gender model\n",
    "Is is well-known that 'Sex' is the most important feature, given that over $70\\%$ of females survived, while less than $20\\%$ of males did. This suggests the following rule: females should be predicted to survive and males to perish. This results in the **gender model**, the most commonly used baseline and provided by Kaggle as the example submission.\n",
    "\n",
    "However, looking at the following table we can easily improve upon that baseline. (Note that I **restricted the table to the Kaggle training set** to avoid \"spoilers\" about the test set.)"
   ]
  },
  {
   "cell_type": "code",
   "execution_count": 3,
   "id": "a5031f43-4013-4dc0-a0a1-05b8d0b05bcc",
   "metadata": {
    "tags": []
   },
   "outputs": [
    {
     "data": {
      "text/html": [
       "<div>\n",
       "<style scoped>\n",
       "    .dataframe tbody tr th:only-of-type {\n",
       "        vertical-align: middle;\n",
       "    }\n",
       "\n",
       "    .dataframe tbody tr th {\n",
       "        vertical-align: top;\n",
       "    }\n",
       "\n",
       "    .dataframe thead th {\n",
       "        text-align: right;\n",
       "    }\n",
       "</style>\n",
       "<table border=\"1\" class=\"dataframe\">\n",
       "  <thead>\n",
       "    <tr style=\"text-align: right;\">\n",
       "      <th></th>\n",
       "      <th></th>\n",
       "      <th></th>\n",
       "      <th>mean</th>\n",
       "      <th>count</th>\n",
       "    </tr>\n",
       "    <tr>\n",
       "      <th>Sex</th>\n",
       "      <th>Pclass</th>\n",
       "      <th>Embarked</th>\n",
       "      <th></th>\n",
       "      <th></th>\n",
       "    </tr>\n",
       "  </thead>\n",
       "  <tbody>\n",
       "    <tr>\n",
       "      <th rowspan=\"9\" valign=\"top\">female</th>\n",
       "      <th rowspan=\"3\" valign=\"top\">1</th>\n",
       "      <th>C</th>\n",
       "      <td>0.976744</td>\n",
       "      <td>43</td>\n",
       "    </tr>\n",
       "    <tr>\n",
       "      <th>Q</th>\n",
       "      <td>1.000000</td>\n",
       "      <td>1</td>\n",
       "    </tr>\n",
       "    <tr>\n",
       "      <th>S</th>\n",
       "      <td>0.958333</td>\n",
       "      <td>48</td>\n",
       "    </tr>\n",
       "    <tr>\n",
       "      <th rowspan=\"3\" valign=\"top\">2</th>\n",
       "      <th>C</th>\n",
       "      <td>1.000000</td>\n",
       "      <td>7</td>\n",
       "    </tr>\n",
       "    <tr>\n",
       "      <th>Q</th>\n",
       "      <td>1.000000</td>\n",
       "      <td>2</td>\n",
       "    </tr>\n",
       "    <tr>\n",
       "      <th>S</th>\n",
       "      <td>0.910448</td>\n",
       "      <td>67</td>\n",
       "    </tr>\n",
       "    <tr>\n",
       "      <th rowspan=\"3\" valign=\"top\">3</th>\n",
       "      <th>C</th>\n",
       "      <td>0.652174</td>\n",
       "      <td>23</td>\n",
       "    </tr>\n",
       "    <tr>\n",
       "      <th>Q</th>\n",
       "      <td>0.727273</td>\n",
       "      <td>33</td>\n",
       "    </tr>\n",
       "    <tr>\n",
       "      <th>S</th>\n",
       "      <td>0.375000</td>\n",
       "      <td>88</td>\n",
       "    </tr>\n",
       "    <tr>\n",
       "      <th rowspan=\"9\" valign=\"top\">male</th>\n",
       "      <th rowspan=\"3\" valign=\"top\">1</th>\n",
       "      <th>C</th>\n",
       "      <td>0.404762</td>\n",
       "      <td>42</td>\n",
       "    </tr>\n",
       "    <tr>\n",
       "      <th>Q</th>\n",
       "      <td>0.000000</td>\n",
       "      <td>1</td>\n",
       "    </tr>\n",
       "    <tr>\n",
       "      <th>S</th>\n",
       "      <td>0.354430</td>\n",
       "      <td>79</td>\n",
       "    </tr>\n",
       "    <tr>\n",
       "      <th rowspan=\"3\" valign=\"top\">2</th>\n",
       "      <th>C</th>\n",
       "      <td>0.200000</td>\n",
       "      <td>10</td>\n",
       "    </tr>\n",
       "    <tr>\n",
       "      <th>Q</th>\n",
       "      <td>0.000000</td>\n",
       "      <td>1</td>\n",
       "    </tr>\n",
       "    <tr>\n",
       "      <th>S</th>\n",
       "      <td>0.154639</td>\n",
       "      <td>97</td>\n",
       "    </tr>\n",
       "    <tr>\n",
       "      <th rowspan=\"3\" valign=\"top\">3</th>\n",
       "      <th>C</th>\n",
       "      <td>0.232558</td>\n",
       "      <td>43</td>\n",
       "    </tr>\n",
       "    <tr>\n",
       "      <th>Q</th>\n",
       "      <td>0.076923</td>\n",
       "      <td>39</td>\n",
       "    </tr>\n",
       "    <tr>\n",
       "      <th>S</th>\n",
       "      <td>0.128302</td>\n",
       "      <td>265</td>\n",
       "    </tr>\n",
       "  </tbody>\n",
       "</table>\n",
       "</div>"
      ],
      "text/plain": [
       "                            mean  count\n",
       "Sex    Pclass Embarked                 \n",
       "female 1      C         0.976744     43\n",
       "              Q         1.000000      1\n",
       "              S         0.958333     48\n",
       "       2      C         1.000000      7\n",
       "              Q         1.000000      2\n",
       "              S         0.910448     67\n",
       "       3      C         0.652174     23\n",
       "              Q         0.727273     33\n",
       "              S         0.375000     88\n",
       "male   1      C         0.404762     42\n",
       "              Q         0.000000      1\n",
       "              S         0.354430     79\n",
       "       2      C         0.200000     10\n",
       "              Q         0.000000      1\n",
       "              S         0.154639     97\n",
       "       3      C         0.232558     43\n",
       "              Q         0.076923     39\n",
       "              S         0.128302    265"
      ]
     },
     "execution_count": 3,
     "metadata": {},
     "output_type": "execute_result"
    }
   ],
   "source": [
    "full_data.loc[kaggle_train_idx].groupby(['Sex', 'Pclass', 'Embarked'])['Survived'].agg(['mean', 'count'])"
   ]
  },
  {
   "cell_type": "markdown",
   "id": "28836af3-282f-47ec-8c65-18fbf7736460",
   "metadata": {},
   "source": [
    "We see that there is one glaring exception to the rule: Females who traveled in 3rd class *and* who boarded in Southampton have a survival rate of under $40\\%$ (and thus should be predicted to die). That actually applies to a pretty large number of passengers, namely 129 in the whole data set.\n",
    "\n",
    "We will slightly modify the gender baseline by adding the exception that females are predicted *not* to survive if they are in 3rd class *and* they embarked in Southampton ('Embarked' is 'S'). Let's call this the **enhanced gender model**.\n",
    "\n",
    "Note that this model does not make use of the leakage and thus we will think of it as the **leakage-free baseline**."
   ]
  },
  {
   "cell_type": "markdown",
   "id": "08bb89b8-c6c9-4f06-bc70-7780c957e014",
   "metadata": {},
   "source": [
    "### Group survival model\n",
    "\n",
    "On the other hand, what we will call the **group survival model** makes full use of the leakage. It is in fact an extension of the gender model which has already been implemented by [Chris Deotte](https://www.kaggle.com/code/cdeotte/titanic-using-name-only-0-81818/notebook). The rule here is to predict that females survive *unless* all women and children in their group *died* (within the training set) and that boys die *unless* all women and children in their group *survived* (within the training set).\n",
    "\n",
    "We will implement all three baseline models mentioned above as custom classifiers following the scikit-learn API."
   ]
  },
  {
   "cell_type": "code",
   "execution_count": 4,
   "id": "b1a0f0b7-3186-45db-b33a-adc5df40b45d",
   "metadata": {},
   "outputs": [],
   "source": [
    "class GenderClassifier(BaseEstimator, ClassifierMixin):\n",
    "    def fit(self, X, y, groups):\n",
    "        pass\n",
    "    def predict(self, X):\n",
    "        return (X['Female/Boy/Man'] == 0).astype(int)\n",
    "    \n",
    "class EnhancedGenderClassifier(BaseEstimator, ClassifierMixin):\n",
    "    def fit(self, X, y, groups):\n",
    "        pass\n",
    "    def predict(self, X):\n",
    "        is_woman = X['Female/Boy/Man'] == 0\n",
    "        # This assumes that 2 corresponds to 'S'!\n",
    "        exceptions = (X['Embarked Encoded'] == 2) & (X['Pclass'] == 3)\n",
    "        return (is_woman & ~exceptions).astype(int)\n",
    "    \n",
    "class GroupSurvivalClassifier(BaseEstimator, ClassifierMixin):\n",
    "    def __init__(self):\n",
    "        self.survival_rates_ = None\n",
    "\n",
    "    def fit(self, X, y, groups):\n",
    "        is_man = X['Female/Boy/Man'] == 2\n",
    "        self.survival_rates_ = y[~is_man].groupby(X.loc[~is_man, 'Group']).agg(['mean', 'count'])\n",
    "        \n",
    "    def predict(self, X):\n",
    "        if self.survival_rates_ is None:\n",
    "            raise Exception('The model needs to be fitted first.')\n",
    "        is_female = (X['Female/Boy/Man'] == 0).reset_index(drop=True)\n",
    "        is_boy = (X['Female/Boy/Man'] == 1).reset_index(drop=True)\n",
    "        family_survived = pd.merge(X, self.survival_rates_, how='left', on='Group')['mean']\n",
    "        female_survivors = is_female & (family_survived != 0)\n",
    "        boy_survivors = is_boy & (family_survived == 1)\n",
    "        return (female_survivors | boy_survivors).astype(int)"
   ]
  },
  {
   "cell_type": "markdown",
   "id": "8e999a88-606e-4bfd-9dc2-1e8fae59db81",
   "metadata": {},
   "source": [
    "## Our \"exemplary\" model"
   ]
  },
  {
   "cell_type": "markdown",
   "id": "f2458800-be94-4169-aa9f-596fbbb6570a",
   "metadata": {},
   "source": [
    "### Feature engineering and categorical encoding"
   ]
  },
  {
   "cell_type": "markdown",
   "id": "dd459ab1-4608-4042-ab43-805aa3245ccc",
   "metadata": {},
   "source": [
    "Before feeding the data to our classifier we will engineer some new features, which are inspired by what I have read in various public notebooks on Kaggle.\n",
    "\n",
    "The categorical features need to be encoded into numerical features. We will use **ordinal encoding** rather than one-hot encoding, given that this [seems](https://github.com/szilard/benchm-ml/issues/1) to be preferable for tree-based models."
   ]
  },
  {
   "cell_type": "code",
   "execution_count": 5,
   "id": "ef9b567a-f75a-484c-b5e0-4cb3928c49b0",
   "metadata": {},
   "outputs": [],
   "source": [
    "embarked_encoder = OrdinalEncoder()\n",
    "X['Embarked Encoded'] = embarked_encoder.fit_transform(X[['Embarked']])"
   ]
  },
  {
   "cell_type": "markdown",
   "id": "d4bc6814-3e74-4075-ba96-0117d91381c4",
   "metadata": {},
   "source": [
    "As we have discussed, male survival depends largely on being a boy or being an adult male. To be precise, by **boy** we mean anyone with the title 'Master'. We create a new ordinal feature in which female is encoded as 0, boy as 1, and adult male as 2. Note that we ordered the categories in terms of descending survival rates."
   ]
  },
  {
   "cell_type": "code",
   "execution_count": 6,
   "id": "abb17f37-3564-4e31-9e95-99909445529c",
   "metadata": {},
   "outputs": [],
   "source": [
    "X['Is Boy'] = X['Name'].str.contains('Master.').astype(int)\n",
    "X['Female/Boy/Man'] = 2 * (X['Sex'] == 'male') - X['Is Boy']"
   ]
  },
  {
   "cell_type": "markdown",
   "id": "390b063b-6a5b-48c2-a178-626f85bf2a03",
   "metadata": {},
   "source": [
    "For shared tickets it seems that the ticket price is the total for all ticket holders. It seems more meaningful to compare the **price per passenger** than the total, which is why we engineer a 'Fare per Passenger' feature."
   ]
  },
  {
   "cell_type": "code",
   "execution_count": 7,
   "id": "a944554b-68a5-4d7d-a967-d87f7f03c2e3",
   "metadata": {},
   "outputs": [],
   "source": [
    "X['Passengers per Ticket'] =  X.groupby('Ticket')['Ticket'].transform('count')\n",
    "X['Fare per Passenger'] = X['Fare'] / X['Passengers per Ticket']"
   ]
  },
  {
   "cell_type": "markdown",
   "id": "cf97ff47-f3a9-455e-91de-050261f4939c",
   "metadata": {},
   "source": [
    "We combine the number of siblings and spouses with the number of parents and children in one **\"Family Size\"** feature."
   ]
  },
  {
   "cell_type": "code",
   "execution_count": 8,
   "id": "e4af585e-a0f4-4a90-8f8f-def53570d248",
   "metadata": {},
   "outputs": [],
   "source": [
    "X['Family Size'] = X['SibSp'] + X['Parch'] + 1"
   ]
  },
  {
   "cell_type": "markdown",
   "id": "70529c34-e9af-4bc7-813a-c6097ba5d558",
   "metadata": {},
   "source": [
    "We extract the **'Deck'** from the 'Cabin' feature. Note that the deck is given by the letter at the beginning of the cabin number. When encoding the Deck feature we make sure that NA gets encoded as its own category, rather than filled in later on. This is because a significant number of cabin numbers are missing (which makes the imputation harder) and also because the fact that the cabin number is missing might contain some information in itself."
   ]
  },
  {
   "cell_type": "code",
   "execution_count": 9,
   "id": "3560d6a8-d04d-4ca1-9d2d-23a341a2021d",
   "metadata": {},
   "outputs": [],
   "source": [
    "X['Deck'] = X['Cabin'].str[0]\n",
    "deck_encoder = OrdinalEncoder()\n",
    "X['Deck Encoded'] = deck_encoder.fit_transform(X[['Deck']].fillna('missing'))"
   ]
  },
  {
   "cell_type": "markdown",
   "id": "f8f3e129-048e-4c36-b3e1-5fb962c46a15",
   "metadata": {},
   "source": [
    "We **truncate** the **ticket** number by removing the last two digits. This is essentially a form of binning, in that it reduces the cardinality of the 'Ticket' feature and groups together similar tickets."
   ]
  },
  {
   "cell_type": "code",
   "execution_count": 10,
   "id": "274e521c-9193-4856-a0d3-d4fc88c652e7",
   "metadata": {},
   "outputs": [],
   "source": [
    "X['Truncated Ticket'] = X['Ticket'].str[:-2]\n",
    "ticket_encoder = OrdinalEncoder()\n",
    "X['Truncated Ticket Encoded'] = ticket_encoder.fit_transform(X[['Truncated Ticket']])"
   ]
  },
  {
   "cell_type": "markdown",
   "id": "a3649794-35a5-493e-9047-ec5cf28397a2",
   "metadata": {},
   "source": [
    "Finally, we **select** those **features** we will use for the classification."
   ]
  },
  {
   "cell_type": "code",
   "execution_count": 11,
   "id": "ece25123-3c32-4bce-84a4-d1925938fad2",
   "metadata": {
    "tags": []
   },
   "outputs": [],
   "source": [
    "X = X[['Female/Boy/Man', 'Age', 'Family Size', 'Fare per Passenger', 'Pclass', 'Deck Encoded', 'Truncated Ticket Encoded', 'Embarked Encoded']]"
   ]
  },
  {
   "cell_type": "markdown",
   "id": "c2000e89-7254-4e2a-8995-59c4fea0dd74",
   "metadata": {},
   "source": [
    "### XGBoost classifier and hyperparameter tuning"
   ]
  },
  {
   "cell_type": "markdown",
   "id": "95c3092f-3c19-4c84-854d-2ce1197c0738",
   "metadata": {},
   "source": [
    "We will use the popular classifier from the library XGBoost.\n",
    "\n",
    "To **tune the hyperparameters** we will use the `GridSearchCV` function from scikit-learn, which evaluates all hyperparameter combinations in a \"parameter grid\" using cross-validation and selects the hyperparameters resulting in the highest mean accuracy.\n",
    "\n",
    "Before feeding the data to the classifier we need to fill in the missing values. We will use an **iterative imputer**, which fills in the missing values of each feature based on the remaining features. Because the imputation step depends on the training data, it needs to be repeated for each new train-test split. This is why we will concatenate the imputer with the classifier in a **scikit-learn pipeline**."
   ]
  },
  {
   "cell_type": "code",
   "execution_count": 12,
   "id": "ff61bb08-9e1d-4661-9c70-a2c52b4e21b0",
   "metadata": {},
   "outputs": [],
   "source": [
    "iterative_imputer = IterativeImputer()\n",
    "xgbclassifier = xgb.XGBClassifier(use_label_encoder=False, eval_metric='error', booster='gbtree')\n",
    "xgb_pipe = Pipeline(steps=[('iterative_imputer', iterative_imputer), ('xgbclassifier', xgbclassifier)])"
   ]
  },
  {
   "cell_type": "markdown",
   "id": "347c5183-5d02-4af5-b345-3fe965a117fa",
   "metadata": {},
   "source": [
    "We will use the following hyperparameter grid."
   ]
  },
  {
   "cell_type": "code",
   "execution_count": 13,
   "id": "9b7fc6ed-fd15-4347-83d0-50d560448582",
   "metadata": {},
   "outputs": [],
   "source": [
    "param_grid = {\n",
    "    'xgbclassifier__gamma': [0, 0.1, 0.2],\n",
    "    'xgbclassifier__subsample': [0.9, 1],\n",
    "    'xgbclassifier__max_depth': [4, 5, 6],\n",
    "    'xgbclassifier__learning_rate': [0.05, 0.1, 0.2],\n",
    "    'xgbclassifier__n_estimators': [40, 50, 60],\n",
    "    'xgbclassifier__max_delta_step': [0, 1, 5],\n",
    "    'xgbclassifier__reg_alpha': [1, 2, 3],\n",
    "    }"
   ]
  },
  {
   "cell_type": "markdown",
   "id": "bfaafcb4-364a-46ff-8d1e-0350c862abc5",
   "metadata": {
    "tags": []
   },
   "source": [
    "## Cross-validation\n",
    "\n",
    "Now that we have implemented the classifiers, we need to set up the cross-validation schemes.\n",
    "\n",
    "Recall that the rationale behind cross-validation is to reduce the error in estimating model performance with a single train-test split, by averaging the scores across multiple train-test splits. Intuitively, in a single train-test split we might get unlucky and have a particularly \"easy\" (or \"hard\") test set, which results in a misleading accuracy score. Taking multiple splits both mitigates this risk and actually allows us to estimate the error (by looking at the variation across splits).\n",
    "\n",
    "In **k-fold cross-validation** a model is trained and evaluated $k$ times on different train-test splits, where the different test sets have the same size (or at most differ by 1), are disjoint and together make up the whole data set. Each of these test sets is called a **fold**.\n",
    "\n",
    "As explained above, to prevent the data leakage we need to perform splits which don't break up any of the groups of passengers traveling together (mostly families). In general, this is called **group k-fold cross-validation**. In this context we will refer to it as **leak-proof cross-validation**. In contrast, we will refer to regular (group agnostic) cross-validation as **leaky cross-validation** because it enables leakage.\n",
    "\n",
    "First of all we need to figure out, to a sufficient approximation, which passengers are in fact traveling together."
   ]
  },
  {
   "cell_type": "markdown",
   "id": "7a6d7c76-7a5d-4fc2-b6c1-b7eacb016f36",
   "metadata": {},
   "source": [
    "### Identifying the groups"
   ]
  },
  {
   "cell_type": "markdown",
   "id": "14ae1de9-8760-4715-bca2-b0361ad36058",
   "metadata": {},
   "source": [
    "This section was heavily influenced by the Kaggle notebooks of [Chris Deotte](https://www.kaggle.com/code/cdeotte/titanic-using-name-only-0-81818/notebook), [Erik Bruin](https://www.kaggle.com/code/erikbruin/titanic-2nd-degree-families-and-majority-voting/report), and others.\n",
    "\n",
    "We want to identify the groups of passengers traveling together, who where likely to stay together during the sinking. This might require going beyond the closest family members (meaning those who have the same surname). One way to **find extended families** is to extract **maiden names**, which allows us to connect a married woman to her sister or mother, for instance. Even further, we can break apart **double surnames** (\"Kink-Heilmann\" or \"Penasco y Castellana\") to discover as many family relations as possible.\n",
    "\n",
    "Beyond the 'Name' feature, we will also use the **ticket numbers** to capture groups of friends or more distant family members traveling together.\n",
    "\n",
    "Because our aim is to minimize the leakage caused by groups of travelers being split across training set and test set, we want to make sure that we don't miss too many connections. This means that we want to catch as many real groups as possible, even at the cost of some **false positives**, while making sure the group sizes seem reasonable. To reduce the risk of false positives, we will only allow groups in which all passengers are traveling in the same class. This seems like a reasonable assumption for passengers sticking together.\n",
    "\n",
    "With all this in mind, this is **how we will form the groups**:\n",
    "- If the surname of one passenger is the same as the surname, middle name, or any part of a double surname of another passenger, we put those passengers in the same group, *provided* they are in the **same passenger class**.\n",
    "- If the ticket numbers of two passengers agree, the passengers are in the same group. (Passenger with the same ticket number are automatically in the same passenger class.)\n",
    "\n",
    "Following the rules above, some groups will contain passengers who are only **indirectly connected** through a chain of direct connections. In more mathematical language: the passengers are vertices in a [graph](https://en.wikipedia.org/wiki/Graph_(discrete_mathematics)) and the rules above determine when two **vertices** are connected by an **edge**. From this perspective, the passenger groups are the **connected components** of the graph. We will use the `networkx` library to find the passenger groups (connected components)."
   ]
  },
  {
   "cell_type": "markdown",
   "id": "65af6e03-2322-4efb-a78b-3ab438e64ba5",
   "metadata": {},
   "source": [
    "**Note:** The approach outlined above seems to lead to pretty sensible groups. There are probably a couple of false connections but nothing dramatic. That said, it would be interesting to explore the effects that changes in how the connections are formed have on the results below. There is the option of a much more targeted approach, where we painstakingly go over the groups and discover false connections by taking into account the 'Parch' (number of parents and children on board) and 'SibSp' (number of siblings and spouses on board) features and even by searching some information on the passengers online. Furthermore, we decided to compare the whole ticket numbers of passengers, but some people have pointed out that the last digits of the ticket numbers sometimes vary for families traveling together. When I tried to compare the tickets numbers ignoring the last digit, this seemed to lead to too large groups (likely many false positives). However, in a more targeted approach it might be worth trying this out."
   ]
  },
  {
   "cell_type": "markdown",
   "id": "8627ee6a-538e-4d47-b6d7-60a1ae41f981",
   "metadata": {},
   "source": [
    "In the following we extract the surnames and maiden names from the 'Name' feature. We also break apart the double surnames, being careful about false positives (names starting with de, del, Van, Vander, and so on)."
   ]
  },
  {
   "cell_type": "code",
   "execution_count": 5,
   "id": "7de0c13f-611a-48fd-958a-e1d631ced21d",
   "metadata": {},
   "outputs": [],
   "source": [
    "full_data['Surname'] = full_data['Name'].str.extract('(.+),')\n",
    "\n",
    "# Maiden names are given in brackets in the 'Name' column\n",
    "# Note that we require a space before the start of the maiden name\n",
    "# to exclude nicknames, which are usually a single word in brackets\n",
    "full_data['Maiden Name'] = full_data['Name'].str.extract(r' ([A-Za-z]+)\\)')\n",
    "\n",
    "\n",
    "# Double surnames are separated by hyphens, spaces and 'y' (some Spanish surnames).\n",
    "# We need to exclude some false positives in French, Dutch and Spanish names\n",
    "# starting with de, del, Van, Vander, and so on.\n",
    "has_double_surname = full_data['Surname'].str.contains('-| ')\n",
    "false_positives = full_data['Surname'].str.contains('^(?i)va|^(?i)de')\n",
    "full_data[['First Surname', 'Second Surname']] = full_data['Surname'].where(has_double_surname & ~false_positives).str.split('-| y | ', expand=True)\n",
    "full_data['First Surname'] = full_data['First Surname'].fillna(full_data['Surname'])"
   ]
  },
  {
   "cell_type": "markdown",
   "id": "40c53c49-ffa4-4b24-8a57-d8871372612b",
   "metadata": {},
   "source": [
    "Now we use `networkx` to determine the groups according to the rules we outlined above."
   ]
  },
  {
   "cell_type": "code",
   "execution_count": 6,
   "id": "95758b1f-9e5a-48e6-a447-aea9d10b6c15",
   "metadata": {
    "tags": []
   },
   "outputs": [],
   "source": [
    "connected_components = []\n",
    "has_maiden_name = full_data['Maiden Name'].notna()\n",
    "\n",
    "# \n",
    "for pclass in [1,2,3]:\n",
    "    pairings = []\n",
    "    this_class = full_data['Pclass'] == pclass\n",
    "    # Note that for passengers with a simple surname (not a double/composite one)\n",
    "    # we filled 'First Surname' with the surname and left 'Second Surname' as None\n",
    "    # This is why we don't need the 'Surname' feature itself in here\n",
    "    pairings.append(full_data.loc[this_class & has_maiden_name, ['First Surname', 'Maiden Name']]\n",
    "                        .rename(columns={'First Surname': 'first', 'Maiden Name': 'second'})\n",
    "                    )\n",
    "    pairings.append(full_data.loc[this_class & has_double_surname & ~false_positives, ['First Surname', 'Second Surname']]\n",
    "                        .rename(columns={'First Surname': 'first', 'Second Surname': 'second'})\n",
    "                    )\n",
    "    pairings.append(full_data.loc[this_class, ['First Surname', 'Ticket']]\n",
    "                        .rename(columns={'First Surname': 'first', 'Ticket': 'second'})\n",
    "                    )\n",
    "    edges = pd.concat(pairings)\n",
    "    graph = nx.from_pandas_edgelist(edges, 'first', 'second')\n",
    "    connected_components.extend(nx.connected_components(graph))\n",
    "\n",
    "connected_components.sort(key=len, reverse=True)\n",
    "group_dict = dict(enumerate(connected_components))\n",
    "\n",
    "full_data['Group'] = full_data['Ticket'].apply(lambda ticket: next(group_idx for group_idx, group in enumerate(connected_components) if ticket in group))"
   ]
  },
  {
   "cell_type": "markdown",
   "id": "ffaedef7-9442-4601-97f3-3481bd70f618",
   "metadata": {},
   "source": [
    "Let's have a look at the sizes of the largest groups below:"
   ]
  },
  {
   "cell_type": "code",
   "execution_count": 16,
   "id": "73274a37-42cb-49dc-8b7d-2ae6cf279c13",
   "metadata": {},
   "outputs": [
    {
     "data": {
      "text/plain": [
       "[16, 16, 13, 11, 11, 10, 10, 10, 10, 9, 8, 8, 8, 8, 7, 7, 7, 6, 6, 6]"
      ]
     },
     "execution_count": 16,
     "metadata": {},
     "output_type": "execute_result"
    }
   ],
   "source": [
    "full_data['Group'].value_counts().values.tolist()[:20]"
   ]
  },
  {
   "cell_type": "markdown",
   "id": "61b416ff-717e-4be8-b27e-1b7e812713d7",
   "metadata": {},
   "source": [
    "A couple group sizes are a little large but overall, they are just a handful out of 232 groups total (this number excludes solo travelers; if each solo traveler counted as their own group, there would be a total of 768 groups). The results appear reasonable considering that we are grouping second degree relatives and even separate families traveling together (those sharing a ticket number). There are probably some false positives but our priority is to avoid leakage."
   ]
  },
  {
   "cell_type": "markdown",
   "id": "e2d21808-756d-4883-9303-f222b77000b3",
   "metadata": {},
   "source": [
    "#hide\n",
    "Let's save the groups to a file in case we want to examine them in the future."
   ]
  },
  {
   "cell_type": "code",
   "execution_count": 17,
   "id": "86dea0f9-bc8b-43e4-ab70-884bceb41247",
   "metadata": {},
   "outputs": [],
   "source": [
    "#hide\n",
    "full_data.to_csv('full-data-with-groups.csv', index=False)"
   ]
  },
  {
   "cell_type": "markdown",
   "id": "64431a41-39a9-4a9f-ac1b-fd1834c02e16",
   "metadata": {},
   "source": [
    "### Cross-validation splits"
   ]
  },
  {
   "cell_type": "markdown",
   "id": "c1aaef35-6253-4b4b-a4ec-c994969af19e",
   "metadata": {},
   "source": [
    "Thankfully, there are two scikit-learn functions which we can use to create the splits, or folds. For the **leaky cross-validation** we will use `StratifiedKFold` and for the **leak-proof cross-validation** (the one that doesn't break apart groups) `StratifiedGroupKFold`. We use *stratified* splits in both cases. This is because the data is imbalanced ($38\\%$ of passengers survived) and the stratified splits ensure that all folds have similar survival rates.\n",
    "\n",
    "Before going further, we will check that the leak-proof folds are reasonably representative in terms of the various categorical features. This is to rule out other reasons why the accuracy might go down for leak-proof CV with respect to leaky CV."
   ]
  },
  {
   "cell_type": "code",
   "execution_count": 18,
   "id": "92821ca9-be9f-4e18-b07e-de96803032e1",
   "metadata": {
    "tags": []
   },
   "outputs": [
    {
     "data": {
      "text/html": [
       "<div>\n",
       "<style scoped>\n",
       "    .dataframe tbody tr th:only-of-type {\n",
       "        vertical-align: middle;\n",
       "    }\n",
       "\n",
       "    .dataframe tbody tr th {\n",
       "        vertical-align: top;\n",
       "    }\n",
       "\n",
       "    .dataframe thead th {\n",
       "        text-align: right;\n",
       "    }\n",
       "</style>\n",
       "<table border=\"1\" class=\"dataframe\">\n",
       "  <thead>\n",
       "    <tr style=\"text-align: right;\">\n",
       "      <th></th>\n",
       "      <th>survival</th>\n",
       "      <th>female</th>\n",
       "      <th>first class</th>\n",
       "      <th>second class</th>\n",
       "      <th>third class</th>\n",
       "      <th>embarked S</th>\n",
       "      <th>embarked Q</th>\n",
       "      <th>embarked C</th>\n",
       "    </tr>\n",
       "  </thead>\n",
       "  <tbody>\n",
       "    <tr>\n",
       "      <th>0</th>\n",
       "      <td>0.381679</td>\n",
       "      <td>0.351145</td>\n",
       "      <td>0.259542</td>\n",
       "      <td>0.213740</td>\n",
       "      <td>0.526718</td>\n",
       "      <td>0.709924</td>\n",
       "      <td>0.068702</td>\n",
       "      <td>0.221374</td>\n",
       "    </tr>\n",
       "    <tr>\n",
       "      <th>1</th>\n",
       "      <td>0.381679</td>\n",
       "      <td>0.351145</td>\n",
       "      <td>0.263359</td>\n",
       "      <td>0.213740</td>\n",
       "      <td>0.522901</td>\n",
       "      <td>0.709924</td>\n",
       "      <td>0.091603</td>\n",
       "      <td>0.190840</td>\n",
       "    </tr>\n",
       "    <tr>\n",
       "      <th>2</th>\n",
       "      <td>0.381679</td>\n",
       "      <td>0.381679</td>\n",
       "      <td>0.251908</td>\n",
       "      <td>0.206107</td>\n",
       "      <td>0.541985</td>\n",
       "      <td>0.656489</td>\n",
       "      <td>0.125954</td>\n",
       "      <td>0.217557</td>\n",
       "    </tr>\n",
       "    <tr>\n",
       "      <th>3</th>\n",
       "      <td>0.381679</td>\n",
       "      <td>0.377863</td>\n",
       "      <td>0.221374</td>\n",
       "      <td>0.270992</td>\n",
       "      <td>0.507634</td>\n",
       "      <td>0.755725</td>\n",
       "      <td>0.083969</td>\n",
       "      <td>0.160305</td>\n",
       "    </tr>\n",
       "    <tr>\n",
       "      <th>4</th>\n",
       "      <td>0.383142</td>\n",
       "      <td>0.318008</td>\n",
       "      <td>0.237548</td>\n",
       "      <td>0.153257</td>\n",
       "      <td>0.609195</td>\n",
       "      <td>0.659004</td>\n",
       "      <td>0.099617</td>\n",
       "      <td>0.241379</td>\n",
       "    </tr>\n",
       "  </tbody>\n",
       "</table>\n",
       "</div>"
      ],
      "text/plain": [
       "   survival    female  first class  second class  third class  embarked S  \\\n",
       "0  0.381679  0.351145     0.259542      0.213740     0.526718    0.709924   \n",
       "1  0.381679  0.351145     0.263359      0.213740     0.522901    0.709924   \n",
       "2  0.381679  0.381679     0.251908      0.206107     0.541985    0.656489   \n",
       "3  0.381679  0.377863     0.221374      0.270992     0.507634    0.755725   \n",
       "4  0.383142  0.318008     0.237548      0.153257     0.609195    0.659004   \n",
       "\n",
       "   embarked Q  embarked C  \n",
       "0    0.068702    0.221374  \n",
       "1    0.091603    0.190840  \n",
       "2    0.125954    0.217557  \n",
       "3    0.083969    0.160305  \n",
       "4    0.099617    0.241379  "
      ]
     },
     "execution_count": 18,
     "metadata": {},
     "output_type": "execute_result"
    }
   ],
   "source": [
    "#collapse-hide\n",
    "X_raw = full_data.drop(columns='Survived')\n",
    "groups = full_data['Group'].copy()\n",
    "sgkf =  StratifiedGroupKFold(n_splits=5)\n",
    "ratios = defaultdict(list)\n",
    "\n",
    "for train, test in sgkf.split(X_raw, y, groups=groups):\n",
    "    ratios['survival'].append(y[test].mean())\n",
    "    ratios['female'].append((X_raw.loc[test, 'Sex'] == 'female').mean())\n",
    "    ratios['first class'].append((X_raw.loc[test, 'Pclass'] == 1).mean())\n",
    "    ratios['second class'].append((X_raw.loc[test, 'Pclass'] == 2).mean())\n",
    "    ratios['third class'].append((X_raw.loc[test, 'Pclass'] == 3).mean())\n",
    "    ratios['embarked S'].append((X_raw.loc[test, 'Embarked'] == 'S').mean())\n",
    "    ratios['embarked Q'].append((X_raw.loc[test, 'Embarked'] == 'Q').mean())\n",
    "    ratios['embarked C'].append((X_raw.loc[test, 'Embarked'] == 'C').mean())\n",
    "\n",
    "pd.DataFrame(ratios)"
   ]
  },
  {
   "cell_type": "markdown",
   "id": "baa3c6bc-0d9d-4909-beb5-bca5f1968ccd",
   "metadata": {},
   "source": [
    "Each row corresponds to a fold (test set for each split). Fortunately, the folds appear quite similar to each other.\n",
    "\n",
    "The one somewhat significant variation is for the 'Embarked' feature. This is particularly noticeable for the least frequent value 'Q', because relatively few passengers embarked in Queenstown. This is something to keep in mind but probably not a big deal."
   ]
  },
  {
   "cell_type": "markdown",
   "id": "7997c623-4023-4eec-a3b4-273826b10f6b",
   "metadata": {},
   "source": [
    "### Nested cross-validation"
   ]
  },
  {
   "cell_type": "markdown",
   "id": "f7b63544-8203-4943-9866-6be0c41915e7",
   "metadata": {},
   "source": [
    "To tune the hyperparameters we will use the `GridSearchCV` class from scikit-learn, which evaluates all hyperparameter combinations we provide (in the form of a \"parameter grid\") using cross-validation. The hyperparameters resulting in the highest mean accuracy are selected for the final model.\n",
    "\n",
    "When evaluating our classifier we **need to repeat the hyperparameter search for each split**, because the resulting hyperparameters depend on the training data to some extent. This means that the grid search cross-validation needs to be nested inside the main cross-validation, which we use to evaluate the model. For obvious reasons this is called a **nested cross-validation**.\n",
    "\n",
    "Even though scikit-learn has support for *group* cross-validation, we hit a roadblock with the **nested cross-validation**. To the best of my knowledge, it is currently not possible to pass the groups to the *inner* cross-validation within an *outer* cross-validation using the function `cross_validate`. However, if we tune the hyperparameters of the XGBoost classifier using a leaky cross-validation and then evaluate the model accuracy using leak-proof cross-validation, we might underestimate the classifier's potential because the hyperparameters were specifically tuned for leaky train-test splits. To be able to have an *inner* leak-proof cross-validation will **need to write a custom cross-validation function** which can pass the groups through to the inner cross-validation.\n",
    "\n",
    "The second reason we want a custom cross-validation function is to compute the **accuracy for** the **solo travelers** (in addition to the accuracy for all passengers). Solo travelers are those whose group has a size of \"1\". The hope is that looking at the accuracy on those passengers (which should be unaffected by the leakage) will help shed some light on whether a particular classifier is relying on the leakage.\n",
    "\n",
    "Now we implement the custom cross-validation function, which goes through the provided train-test splits (in the form of a `StratiedKFold` or `StratifiedGroupKFold` object), trains the classifier on each training set, computes the overall accuracy on each test set, and finally computes the accuracy on the solo travelers in each test set. When the classifier is a `GridSearchCV` object, the passenger groups are passed to it through its `fit` method. The function returns two NumPy arrays, one with the overall accuracy scores and one with the accuracy scores restricted to the solo travelers."
   ]
  },
  {
   "cell_type": "code",
   "execution_count": 19,
   "id": "a30acbcc-338d-4474-ac1e-2c910f75b4cb",
   "metadata": {},
   "outputs": [],
   "source": [
    "def custom_cross_validate(classifier, X, y, outer_cv, groups):\n",
    "    '''Almost the same as sklearn's cross_validate, but when classifier\n",
    "    is a GridSearchCV object, it passes the groups to it. This allows\n",
    "    us to make the inner CV leak-proof.\n",
    "    It also computes the accuracy of the predictions for solo passengers,\n",
    "    as an additional \"solo score\".'''\n",
    "    solo_groups = groups.value_counts()[groups.value_counts() == 1].index\n",
    "    scores = []\n",
    "    solo_scores = []\n",
    "    count = 1\n",
    "    total = outer_cv.n_splits\n",
    "    for train_idx, test_idx in outer_cv.split(X, y, groups):\n",
    "        X_train, X_test = X.loc[train_idx], X.loc[test_idx]\n",
    "        y_train, y_test = y[train_idx], y[test_idx]\n",
    "        classifier.fit(X_train, y_train, groups=groups[train_idx])\n",
    "        solo_travelers = groups.isin(solo_groups)[test_idx]\n",
    "        score = classifier.score(X_test, y_test)\n",
    "        solo_score = classifier.score(X_test[solo_travelers], y_test[solo_travelers])\n",
    "        scores.append(score)\n",
    "        solo_scores.append(solo_score)\n",
    "        # print(f'Completed fold {count}/{total}')\n",
    "        count += 1\n",
    "    return np.array(scores), np.array(solo_scores)"
   ]
  },
  {
   "cell_type": "markdown",
   "id": "c6364abc-7e62-4a59-8a85-685028d1df66",
   "metadata": {},
   "source": [
    "## How well does our classifier do when we prevent leakage?"
   ]
  },
  {
   "cell_type": "markdown",
   "id": "27480def-f5b8-45d0-9a41-98a54df9b881",
   "metadata": {},
   "source": [
    "We will now try to do as well as we can in a leak-free CV with our XGBoost model. This will demonstrate how far we can go in the absence of leakage.\n",
    "\n",
    "Because the (outer) evaluation CV is leak-free, we will also use a leak-free CV for the (inner) hyperparameter grid search CV. Additionally, we will drop the truncated ticket feature because it is unlikely to help in the absence of leakage, since it mostly identifies passenger groups."
   ]
  },
  {
   "cell_type": "code",
   "execution_count": 20,
   "id": "36b501cf-c9e5-49d8-9ebf-67d4869c18e5",
   "metadata": {},
   "outputs": [],
   "source": [
    "group_inner_cv =  StratifiedGroupKFold(n_splits=10)\n",
    "group_outer_cv =  StratifiedGroupKFold(n_splits=5)\n",
    "\n",
    "X_woticket = X.drop(columns='Truncated Ticket Encoded')"
   ]
  },
  {
   "cell_type": "markdown",
   "id": "fc9ec5e6-1712-413b-bc72-6f4e39e856c2",
   "metadata": {},
   "source": [
    "Now let's evaluate the XGBoost classifier and the baseline models with a leak-free CV."
   ]
  },
  {
   "cell_type": "code",
   "execution_count": 21,
   "id": "95ab5534-df40-45b2-94c6-a02739211a42",
   "metadata": {},
   "outputs": [],
   "source": [
    "classifier = GridSearchCV(estimator=xgb_pipe, param_grid=param_grid, cv=group_inner_cv)\n",
    "xgb_scores, _ = custom_cross_validate(classifier, X_woticket, y, outer_cv=group_outer_cv, groups=groups)\n",
    "gender_scores, _ = custom_cross_validate(GenderClassifier(), X_woticket, y, outer_cv=group_outer_cv, groups=groups)\n",
    "enhanced_gender_scores, _ = custom_cross_validate(EnhancedGenderClassifier(), X_woticket, y, outer_cv=group_outer_cv, groups=groups)\n",
    "group_survival_scores, _ = custom_cross_validate(GroupSurvivalClassifier(), X_woticket.join(groups), y, outer_cv=group_outer_cv, groups=groups)"
   ]
  },
  {
   "cell_type": "code",
   "execution_count": 22,
   "id": "66c1d8e3-18b5-4536-95ea-a2014c40acf4",
   "metadata": {},
   "outputs": [
    {
     "data": {
      "text/html": [
       "<div>\n",
       "<style scoped>\n",
       "    .dataframe tbody tr th:only-of-type {\n",
       "        vertical-align: middle;\n",
       "    }\n",
       "\n",
       "    .dataframe tbody tr th {\n",
       "        vertical-align: top;\n",
       "    }\n",
       "\n",
       "    .dataframe thead th {\n",
       "        text-align: right;\n",
       "    }\n",
       "</style>\n",
       "<table border=\"1\" class=\"dataframe\">\n",
       "  <thead>\n",
       "    <tr style=\"text-align: right;\">\n",
       "      <th></th>\n",
       "      <th>XGBoost</th>\n",
       "      <th>Gender Baseline</th>\n",
       "      <th>Enhanced Gender Baseline</th>\n",
       "    </tr>\n",
       "  </thead>\n",
       "  <tbody>\n",
       "    <tr>\n",
       "      <th>0</th>\n",
       "      <td>0.809160</td>\n",
       "      <td>0.793893</td>\n",
       "      <td>0.770992</td>\n",
       "    </tr>\n",
       "    <tr>\n",
       "      <th>1</th>\n",
       "      <td>0.862595</td>\n",
       "      <td>0.801527</td>\n",
       "      <td>0.832061</td>\n",
       "    </tr>\n",
       "    <tr>\n",
       "      <th>2</th>\n",
       "      <td>0.797710</td>\n",
       "      <td>0.755725</td>\n",
       "      <td>0.809160</td>\n",
       "    </tr>\n",
       "    <tr>\n",
       "      <th>3</th>\n",
       "      <td>0.847328</td>\n",
       "      <td>0.767176</td>\n",
       "      <td>0.812977</td>\n",
       "    </tr>\n",
       "    <tr>\n",
       "      <th>4</th>\n",
       "      <td>0.793103</td>\n",
       "      <td>0.781609</td>\n",
       "      <td>0.777778</td>\n",
       "    </tr>\n",
       "  </tbody>\n",
       "</table>\n",
       "</div>"
      ],
      "text/plain": [
       "    XGBoost  Gender Baseline  Enhanced Gender Baseline\n",
       "0  0.809160         0.793893                  0.770992\n",
       "1  0.862595         0.801527                  0.832061\n",
       "2  0.797710         0.755725                  0.809160\n",
       "3  0.847328         0.767176                  0.812977\n",
       "4  0.793103         0.781609                  0.777778"
      ]
     },
     "execution_count": 22,
     "metadata": {},
     "output_type": "execute_result"
    }
   ],
   "source": [
    "results = pd.DataFrame({'XGBoost': xgb_scores, 'Gender Baseline': gender_scores, 'Enhanced Gender Baseline': enhanced_gender_scores})\n",
    "results"
   ]
  },
  {
   "cell_type": "code",
   "execution_count": 23,
   "id": "a97026ee-c241-47a9-aa18-e7d3f34bc375",
   "metadata": {},
   "outputs": [
    {
     "data": {
      "text/plain": [
       "XGBoost                     0.821979\n",
       "Gender Baseline             0.779986\n",
       "Enhanced Gender Baseline    0.800594\n",
       "dtype: float64"
      ]
     },
     "execution_count": 23,
     "metadata": {},
     "output_type": "execute_result"
    }
   ],
   "source": [
    "results.mean()"
   ]
  },
  {
   "cell_type": "markdown",
   "id": "4255fe5c-cc40-4920-b95b-0dfaed55f96e",
   "metadata": {},
   "source": [
    "The XGBoost classifier does significantly better than the baselines most of the time, even when we prevent it from using group survival for prediction!\n",
    "\n",
    "It is of course possible that we missed some passenger connections. Considering the low threshold we used to make the connections, it seems unlikely that we missed anything significant. But it would be worth investigating further."
   ]
  },
  {
   "cell_type": "markdown",
   "id": "4661541e-64a7-4e6b-a6d4-f3468387de14",
   "metadata": {},
   "source": [
    "## Does our model rely on leakage if we give it the chance?"
   ]
  },
  {
   "cell_type": "markdown",
   "id": "23de2657-e9e6-4246-89d9-0b624a806ceb",
   "metadata": {},
   "source": [
    "To that end we will compare the accuracy of our model under a leaky CV to its accuracy under a leak-free CV, as well as to the baselines.\n",
    "\n",
    "In contrast to the last section, we will **tune the hyperparameters with a leaky CV**, even when we evaluate it with a leak-proof CV (in other words, the inner CV is leaky even when the outer CV is leak-proof). This is because now we want to \"allow\" our model to use the leakage during training (to see to which extent the model actually ends up relying on it), whereas before we just wanted to get the most out of our model in the leak-proof case.\n",
    "\n",
    "Out of the features we are using, ticket and family size are the most likely ways in which the classifier could \"identify the groups\". Because of this, we will train and evaluate the classifier with and without those features, in case it allows us to gain some insight into how the model uses the leakage."
   ]
  },
  {
   "cell_type": "markdown",
   "id": "802eef04-9f50-40bb-a011-3c51ba7d2509",
   "metadata": {},
   "source": [
    "We will add all the results to a dictionary and display them in a table (pandas DataFrame). The following helper functions add the results to a dictionary which we will turn into a DataFrame."
   ]
  },
  {
   "cell_type": "code",
   "execution_count": 24,
   "id": "4c4e9936-078a-465a-b8f7-96defaad5708",
   "metadata": {},
   "outputs": [],
   "source": [
    "#collapse-hide\n",
    "def add_leaky_results(results_dic, classifier, X):\n",
    "    # print(f'Computing leaky CV scores for\\n{classifier} with features\\n{list(X.columns)}')\n",
    "    scores, scores_solo = custom_cross_validate(classifier, X, y, outer_cv=outer_cv, groups=groups)\n",
    "    results_dic['Leaky CV mean'].append(scores.mean())\n",
    "    results_dic['Leaky CV std'].append(scores.std())\n",
    "    results_dic['Leaky CV solo mean'].append(scores_solo.mean())\n",
    "    results_dic['Leaky CV solo std'].append(scores_solo.std())\n",
    "    # print('------- DONE -------')\n",
    "    \n",
    "def add_leak_proof_results(results_dic, classifier, X):\n",
    "    # print(f'Computing leak-proof CV scores for {classifier} with features {list(X.columns)}')\n",
    "    scores, scores_solo = custom_cross_validate(classifier, X, y, outer_cv=group_outer_cv, groups=groups)\n",
    "    results_dic['Leak-proof CV mean'].append(scores.mean())\n",
    "    results_dic['Leak-proof CV std'].append(scores.std())\n",
    "    results_dic['Leak-proof CV solo mean'].append(scores_solo.mean())\n",
    "    results_dic['Leak-proof CV solo std'].append(scores_solo.std())\n",
    "    # print('------- DONE -------')"
   ]
  },
  {
   "cell_type": "markdown",
   "id": "225d5c44-ff78-451e-aa2f-58d5e6c05ab4",
   "metadata": {},
   "source": [
    "Now we will perform all the cross-validations."
   ]
  },
  {
   "cell_type": "code",
   "execution_count": 25,
   "id": "a8515449-2f81-49c1-a327-677f358a19fc",
   "metadata": {},
   "outputs": [
    {
     "data": {
      "text/html": [
       "<div>\n",
       "<style scoped>\n",
       "    .dataframe tbody tr th:only-of-type {\n",
       "        vertical-align: middle;\n",
       "    }\n",
       "\n",
       "    .dataframe tbody tr th {\n",
       "        vertical-align: top;\n",
       "    }\n",
       "\n",
       "    .dataframe thead th {\n",
       "        text-align: right;\n",
       "    }\n",
       "</style>\n",
       "<table border=\"1\" class=\"dataframe\">\n",
       "  <thead>\n",
       "    <tr style=\"text-align: right;\">\n",
       "      <th></th>\n",
       "      <th>Leaky CV mean</th>\n",
       "      <th>Leaky CV solo mean</th>\n",
       "      <th>Leak-proof CV mean</th>\n",
       "      <th>Leak-proof CV solo mean</th>\n",
       "    </tr>\n",
       "  </thead>\n",
       "  <tbody>\n",
       "    <tr>\n",
       "      <th>Gender model</th>\n",
       "      <td>0.779980</td>\n",
       "      <td>0.796510</td>\n",
       "      <td>0.779986</td>\n",
       "      <td>0.796434</td>\n",
       "    </tr>\n",
       "    <tr>\n",
       "      <th>Enhanced gender model</th>\n",
       "      <td>0.800611</td>\n",
       "      <td>0.797908</td>\n",
       "      <td>0.800594</td>\n",
       "      <td>0.798253</td>\n",
       "    </tr>\n",
       "    <tr>\n",
       "      <th>Group survival model</th>\n",
       "      <td>0.828867</td>\n",
       "      <td>0.796510</td>\n",
       "      <td>0.779986</td>\n",
       "      <td>0.796434</td>\n",
       "    </tr>\n",
       "    <tr>\n",
       "      <th>XGBoost</th>\n",
       "      <td>0.817393</td>\n",
       "      <td>0.799463</td>\n",
       "      <td>0.797555</td>\n",
       "      <td>0.792913</td>\n",
       "    </tr>\n",
       "    <tr>\n",
       "      <th>XGBoost no ticket</th>\n",
       "      <td>0.810526</td>\n",
       "      <td>0.785366</td>\n",
       "      <td>0.817405</td>\n",
       "      <td>0.800289</td>\n",
       "    </tr>\n",
       "    <tr>\n",
       "      <th>XGBoost no ticket or familiy size</th>\n",
       "      <td>0.803662</td>\n",
       "      <td>0.768720</td>\n",
       "      <td>0.804413</td>\n",
       "      <td>0.794888</td>\n",
       "    </tr>\n",
       "  </tbody>\n",
       "</table>\n",
       "</div>"
      ],
      "text/plain": [
       "                                   Leaky CV mean  Leaky CV solo mean  \\\n",
       "Gender model                            0.779980            0.796510   \n",
       "Enhanced gender model                   0.800611            0.797908   \n",
       "Group survival model                    0.828867            0.796510   \n",
       "XGBoost                                 0.817393            0.799463   \n",
       "XGBoost no ticket                       0.810526            0.785366   \n",
       "XGBoost no ticket or familiy size       0.803662            0.768720   \n",
       "\n",
       "                                   Leak-proof CV mean  Leak-proof CV solo mean  \n",
       "Gender model                                 0.779986                 0.796434  \n",
       "Enhanced gender model                        0.800594                 0.798253  \n",
       "Group survival model                         0.779986                 0.796434  \n",
       "XGBoost                                      0.797555                 0.792913  \n",
       "XGBoost no ticket                            0.817405                 0.800289  \n",
       "XGBoost no ticket or familiy size            0.804413                 0.794888  "
      ]
     },
     "execution_count": 25,
     "metadata": {},
     "output_type": "execute_result"
    }
   ],
   "source": [
    "#collapse-hide\n",
    "inner_cv =  StratifiedKFold(n_splits=10)\n",
    "outer_cv =  StratifiedKFold(n_splits=5)\n",
    "\n",
    "results_dic = defaultdict(list)\n",
    "\n",
    "classifiers = [GenderClassifier(), EnhancedGenderClassifier(), GroupSurvivalClassifier()] + 3 * [GridSearchCV(estimator=xgb_pipe, param_grid=param_grid, cv=inner_cv)]\n",
    "X_variations = 2 * [X] + [X.join(groups)] + [X] + [X.drop(columns='Truncated Ticket Encoded')] + [X.drop(columns=['Truncated Ticket Encoded', 'Family Size'])]\n",
    "\n",
    "for classifier, X_variation in zip(classifiers, X_variations):\n",
    "    add_leaky_results(results_dic, classifier, X_variation)\n",
    "    add_leak_proof_results(results_dic, classifier, X_variation)\n",
    "\n",
    "index = ['Gender model', 'Enhanced gender model', 'Group survival model', 'XGBoost', 'XGBoost no ticket', 'XGBoost no ticket or familiy size']\n",
    "pd.DataFrame(results_dic, index=index)[['Leaky CV mean', 'Leaky CV solo mean', 'Leak-proof CV mean', 'Leak-proof CV solo mean']]"
   ]
  },
  {
   "cell_type": "markdown",
   "id": "efd8c3a5-e6ba-4d69-af62-cc29a62c3485",
   "metadata": {},
   "source": [
    "We will discuss the table above and offer some (speculative) interpretations below. It needs to be noted that some of the observed effects might not be statistically significant and we need to be cautious about drawing conclusions. In the next section we will discuss the statistical significance of the observed effects.\n",
    "\n",
    "When including the ticket feature, the leak-proof CV accuracy seems to be significantly worse than the leaky CV accuracy. This seems to confirm the conjecture that the XGBoost model would use the (truncated) ticket feature to identify groups and rely on leakage. Once we drop the ticket feature this is reversed, although the difference is no longer significant in that case (might be due to chance). Once again, this would be consistent with the conjecture that without the ticket feature our model doesn't make use of the leakage in any significant way.\n",
    "\n",
    "The fact that the XGBoost model has a higher accuracy than the baselines is entirely due to its better predictions for passengers traveling in groups. For solo passengers the accuracy is either essentially the same as the baselines (under the leak-proof CV) or much worse than the baselines (under the leaky CV). Given that solo travelers make up $41\\%$ of the passengers, any decrease in accuracy for solo passengers needs to be compensated by a similar increase in accuracy for non-solo passengers.\n",
    "\n",
    "In the leaky CV, the performance on solo passengers degrades significantly when removing the ticket and family size features. In fact, it appears that the performance reduction can be entirely explained by the drop in accuracy for solo travelers (which, again, make up almost half of the passengers)."
   ]
  },
  {
   "cell_type": "markdown",
   "id": "803ddbb4-e2e8-466c-b32b-111f3ca58568",
   "metadata": {
    "tags": []
   },
   "source": [
    "## Conclusions\n",
    "\n",
    "We need to take any conclusions with a grain of salt because the differences between the mean accuracy scores could at least partially be explained by random effects related to the train-test splits. The standard errors of the mean accuracy scores are roughly given by dividing the standard deviation of the results of each cross-validation by $\\sqrt{5}$ (the square root of the number of folds). However, this would give us a somewhat downward biased estimate of the \"true\" standard error, given that the sample standard deviation is itself downward biased and the scores in a CV are not independent of each other (which is the underlying assumption for dividing by $\\sqrt{5}$). Estimating the standard error for k-fold cross-validation [is tricky](https://www.jmlr.org/papers/volume5/grandvalet04a/grandvalet04a.pdf).\n",
    "\n",
    "The following table contains the standard deviations corresponding to the mean accuracy scores in the previous table. Recall that our rough rule of thumb is that the standard error of the mean accuracy is given by the standard deviation divided by 2 (which is slightly less than $\\sqrt{5}$)."
   ]
  },
  {
   "cell_type": "code",
   "execution_count": 26,
   "id": "70f16e5e-8de1-4a70-8fc0-11579e9c308f",
   "metadata": {},
   "outputs": [
    {
     "data": {
      "text/html": [
       "<div>\n",
       "<style scoped>\n",
       "    .dataframe tbody tr th:only-of-type {\n",
       "        vertical-align: middle;\n",
       "    }\n",
       "\n",
       "    .dataframe tbody tr th {\n",
       "        vertical-align: top;\n",
       "    }\n",
       "\n",
       "    .dataframe thead th {\n",
       "        text-align: right;\n",
       "    }\n",
       "</style>\n",
       "<table border=\"1\" class=\"dataframe\">\n",
       "  <thead>\n",
       "    <tr style=\"text-align: right;\">\n",
       "      <th></th>\n",
       "      <th>Leaky CV std</th>\n",
       "      <th>Leaky CV solo std</th>\n",
       "      <th>Leak-proof CV std</th>\n",
       "      <th>Leak-proof CV solo std</th>\n",
       "    </tr>\n",
       "  </thead>\n",
       "  <tbody>\n",
       "    <tr>\n",
       "      <th>Gender model</th>\n",
       "      <td>0.014471</td>\n",
       "      <td>0.028917</td>\n",
       "      <td>0.016809</td>\n",
       "      <td>0.017170</td>\n",
       "    </tr>\n",
       "    <tr>\n",
       "      <th>Enhanced gender model</th>\n",
       "      <td>0.020251</td>\n",
       "      <td>0.024500</td>\n",
       "      <td>0.022864</td>\n",
       "      <td>0.016383</td>\n",
       "    </tr>\n",
       "    <tr>\n",
       "      <th>Group survival model</th>\n",
       "      <td>0.009656</td>\n",
       "      <td>0.028917</td>\n",
       "      <td>0.016809</td>\n",
       "      <td>0.017170</td>\n",
       "    </tr>\n",
       "    <tr>\n",
       "      <th>XGBoost</th>\n",
       "      <td>0.022923</td>\n",
       "      <td>0.043353</td>\n",
       "      <td>0.017577</td>\n",
       "      <td>0.026314</td>\n",
       "    </tr>\n",
       "    <tr>\n",
       "      <th>XGBoost no ticket</th>\n",
       "      <td>0.031544</td>\n",
       "      <td>0.046849</td>\n",
       "      <td>0.021893</td>\n",
       "      <td>0.012502</td>\n",
       "    </tr>\n",
       "    <tr>\n",
       "      <th>XGBoost no ticket or familiy size</th>\n",
       "      <td>0.034558</td>\n",
       "      <td>0.059913</td>\n",
       "      <td>0.016670</td>\n",
       "      <td>0.019164</td>\n",
       "    </tr>\n",
       "  </tbody>\n",
       "</table>\n",
       "</div>"
      ],
      "text/plain": [
       "                                   Leaky CV std  Leaky CV solo std  \\\n",
       "Gender model                           0.014471           0.028917   \n",
       "Enhanced gender model                  0.020251           0.024500   \n",
       "Group survival model                   0.009656           0.028917   \n",
       "XGBoost                                0.022923           0.043353   \n",
       "XGBoost no ticket                      0.031544           0.046849   \n",
       "XGBoost no ticket or familiy size      0.034558           0.059913   \n",
       "\n",
       "                                   Leak-proof CV std  Leak-proof CV solo std  \n",
       "Gender model                                0.016809                0.017170  \n",
       "Enhanced gender model                       0.022864                0.016383  \n",
       "Group survival model                        0.016809                0.017170  \n",
       "XGBoost                                     0.017577                0.026314  \n",
       "XGBoost no ticket                           0.021893                0.012502  \n",
       "XGBoost no ticket or familiy size           0.016670                0.019164  "
      ]
     },
     "execution_count": 26,
     "metadata": {},
     "output_type": "execute_result"
    }
   ],
   "source": [
    "#collapse-hide\n",
    "pd.DataFrame(results_dic, index=index)[['Leaky CV std', 'Leaky CV solo std', 'Leak-proof CV std', 'Leak-proof CV solo std']]"
   ]
  },
  {
   "cell_type": "markdown",
   "id": "131735ff-2235-4448-8d7e-8e1f46097cdc",
   "metadata": {
    "tags": []
   },
   "source": [
    "Overall, I think the results point toward real effects but it has to be said that the observed differences seem to be mostly between 1 and 2 standard errors (according to the rule of thumb). The next step would be a careful analysis of the errors. **Paired hypothesis tests** are necessary to compare classifiers evaluated with the same CV (take the accuracy differences for each split and compute the sample standard deviation of the differences).\n",
    "\n",
    "Keeping in mind the caveats above, we saw that classifiers can perform better than the enhanced gender baseline, even if we prevent the group survival leakage. Recall that XGBoost had a mean accuracy $0.822$ versus the baseline $0.801$ when evaluated with the leak-proof CV (using leak-proof grid search CV). It would be very interesting to see how other classifiers do compared to the baseline.\n",
    "\n",
    "Assuming the difference in accuracy is statistically significant, this indicates that there is more predictive information in the data than: 1) What is given by splitting the passengers using the 'Sex', 'Pclass', and 'Embarked' categories, and 2) The group survival leakage we identified. In fact, the $0.822$ mean accuracy achieved in the leak-proof CV is not far from the group survival baseline of $0.829$. This suggests that the amount of \"leakage-free\" information is comparable to the information we get from the leakage alone. The latter is highly speculative, of course.\n",
    "\n",
    "Furthermore, the table of mean accuracy scores seems to show that the XGBoost model is using the leakage when we use the \"truncated ticket\" feature, but doesn't really use the leakage if that feature is dropped. However, we need to be cautious with these conjectures, considering the higher standard deviation when dropping those features.\n",
    "\n",
    "Please let me know what you think! I welcome suggestions and I would be excited to see other people try this stuff out with other classifiers. There is still a lot to explore."
   ]
  },
  {
   "cell_type": "markdown",
   "id": "8b89362c-b096-4660-ab2b-046f57dd90c0",
   "metadata": {},
   "source": [
    "## P.S. Is the Kaggle test set random?"
   ]
  },
  {
   "cell_type": "markdown",
   "id": "4bd3c8f2-cceb-4ea3-b32d-1ff54f1b211b",
   "metadata": {},
   "source": [
    "Working with different train-test splits made me wonder if the Kaggle split was done completely at random or if the data was already ordered in some way before the split. In the latter case, the train and test set might have different distributions.\n",
    "\n",
    "Below we will check how typical the train-test split is in two ways:\n",
    "- How often are groups with multiple members separated by the split?\n",
    "- What is the survival rate in the test set?\n",
    "\n",
    "In order to check if the observed quantities are *typical* we will make a histogram of both quantities over many random train-test split and see how central the values for the Kaggle split are within the histograms. This is essentially an informal hypothesis test (the null hypothesis being that the Kaggle test set was selected randomly, or more precisely by using a uniform distribution)."
   ]
  },
  {
   "cell_type": "code",
   "execution_count": 15,
   "id": "37d08435-1e57-4365-91e8-a3024fa656e8",
   "metadata": {},
   "outputs": [
    {
     "name": "stdout",
     "output_type": "stream",
     "text": [
      "For the Kaggle split, 61% of proper groups (excluding solo travelers) have members in\n",
      "both train and test set, and the test set survival rate is 0.38.\n"
     ]
    }
   ],
   "source": [
    "#collapse-hide\n",
    "n_groups = (groups.value_counts() > 1).sum()\n",
    "train_groups = set(X.join(groups).loc[kaggle_train_idx, 'Group'].values)\n",
    "test_groups = set(X.join(groups).loc[kaggle_test_idx, 'Group'].values)\n",
    "overlap = len(train_groups & test_groups) / n_groups\n",
    "survival_rate = y[kaggle_test_idx].mean()\n",
    "\n",
    "print(f'For the Kaggle split, {overlap * 100:.0f}% of proper groups (excluding solo travelers) have members in\\nboth train and test set, and the test set survival rate is {survival_rate:.2f}.')"
   ]
  },
  {
   "cell_type": "code",
   "execution_count": 12,
   "id": "9d4e786b-58ef-4ec4-81a8-e3fe65d3e687",
   "metadata": {},
   "outputs": [
    {
     "data": {
      "image/png": "[encoded data removed]",
      "text/plain": [
       "<Figure size 864x288 with 2 Axes>"
      ]
     },
     "metadata": {
      "needs_background": "light"
     },
     "output_type": "display_data"
    }
   ],
   "source": [
    "#collapse-hide\n",
    "overlaps = []\n",
    "survival_rates = []\n",
    "N = 10**4\n",
    "\n",
    "for _ in range(N):\n",
    "    groups_shuffled = groups.sample(frac=1).reset_index(drop=True)\n",
    "    train_groups = set(groups_shuffled[kaggle_train_idx].values)\n",
    "    test_groups = set(groups_shuffled[kaggle_test_idx].values)\n",
    "    overlap = len(train_groups & test_groups) / n_groups\n",
    "    overlaps.append(overlap)\n",
    "    y_shuffled = y.sample(frac=1).reset_index(drop=True)\n",
    "    survival_rate = y_shuffled[kaggle_test_idx].mean()\n",
    "    survival_rates.append(survival_rate)\n",
    "\n",
    "fig, (ax0, ax1) = plt.subplots(1, 2, figsize=(12, 4))\n",
    "    \n",
    "ax0.set_title('Fraction of groups divided into train and test')\n",
    "ax0.hist(overlaps);\n",
    "\n",
    "ax1.set_title('Survival rates in test set')\n",
    "ax1.hist(survival_rates);"
   ]
  },
  {
   "cell_type": "markdown",
   "id": "5997c0d3-3af8-407c-9908-998481a33ef0",
   "metadata": {},
   "source": [
    "The Kaggle test set seems to be very typical, at least as far as the survival rate and passenger groups are concerned. In fact, both values (0.61 and 0.38) are close to the mean for both distributions (almost suspiciously close). This suggests that the test set was either drawn at random or specifically chosen to have a typical survival rate."
   ]
  }
 ],
 "metadata": {
  "kernelspec": {
   "display_name": "Python 3 (ipykernel)",
   "language": "python",
   "name": "python3"
  },
  "language_info": {
   "codemirror_mode": {
    "name": "ipython",
    "version": 3
   },
   "file_extension": ".py",
   "mimetype": "text/x-python",
   "name": "python",
   "nbconvert_exporter": "python",
   "pygments_lexer": "ipython3",
   "version": "3.8.12"
  }
 },
 "nbformat": 4,
 "nbformat_minor": 5
}
